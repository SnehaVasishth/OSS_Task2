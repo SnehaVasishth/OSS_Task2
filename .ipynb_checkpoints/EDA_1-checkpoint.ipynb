{
 "cells": [
  {
   "cell_type": "markdown",
   "id": "c106a12e",
   "metadata": {},
   "source": [
    "# Elon Musk's Tweets Data Analysis"
   ]
  },
  {
   "cell_type": "code",
   "execution_count": 1,
   "id": "c75abecd",
   "metadata": {},
   "outputs": [
    {
     "name": "stdout",
     "output_type": "stream",
     "text": [
      "Requirement already satisfied: wordcloud in c:\\users\\sneha\\anaconda3\\lib\\site-packages (1.8.2.2)\n",
      "Requirement already satisfied: numpy>=1.6.1 in c:\\users\\sneha\\anaconda3\\lib\\site-packages (from wordcloud) (1.21.5)\n",
      "Requirement already satisfied: pillow in c:\\users\\sneha\\anaconda3\\lib\\site-packages (from wordcloud) (9.0.1)\n",
      "Requirement already satisfied: matplotlib in c:\\users\\sneha\\anaconda3\\lib\\site-packages (from wordcloud) (3.5.1)\n",
      "Requirement already satisfied: kiwisolver>=1.0.1 in c:\\users\\sneha\\anaconda3\\lib\\site-packages (from matplotlib->wordcloud) (1.3.2)\n",
      "Requirement already satisfied: fonttools>=4.22.0 in c:\\users\\sneha\\anaconda3\\lib\\site-packages (from matplotlib->wordcloud) (4.25.0)\n",
      "Requirement already satisfied: pyparsing>=2.2.1 in c:\\users\\sneha\\anaconda3\\lib\\site-packages (from matplotlib->wordcloud) (3.0.4)\n",
      "Requirement already satisfied: cycler>=0.10 in c:\\users\\sneha\\anaconda3\\lib\\site-packages (from matplotlib->wordcloud) (0.11.0)\n",
      "Requirement already satisfied: python-dateutil>=2.7 in c:\\users\\sneha\\anaconda3\\lib\\site-packages (from matplotlib->wordcloud) (2.8.2)\n",
      "Requirement already satisfied: packaging>=20.0 in c:\\users\\sneha\\anaconda3\\lib\\site-packages (from matplotlib->wordcloud) (21.3)\n",
      "Requirement already satisfied: six>=1.5 in c:\\users\\sneha\\anaconda3\\lib\\site-packages (from python-dateutil>=2.7->matplotlib->wordcloud) (1.16.0)\n",
      "Requirement already satisfied: textblob-de in c:\\users\\sneha\\anaconda3\\lib\\site-packages (0.4.3)\n",
      "Requirement already satisfied: textblob>=0.9.0 in c:\\users\\sneha\\anaconda3\\lib\\site-packages (from textblob-de) (0.17.1)\n",
      "Requirement already satisfied: nltk>=3.1 in c:\\users\\sneha\\anaconda3\\lib\\site-packages (from textblob>=0.9.0->textblob-de) (3.7)\n",
      "Requirement already satisfied: tqdm in c:\\users\\sneha\\anaconda3\\lib\\site-packages (from nltk>=3.1->textblob>=0.9.0->textblob-de) (4.64.0)\n",
      "Requirement already satisfied: regex>=2021.8.3 in c:\\users\\sneha\\anaconda3\\lib\\site-packages (from nltk>=3.1->textblob>=0.9.0->textblob-de) (2022.3.15)\n",
      "Requirement already satisfied: joblib in c:\\users\\sneha\\anaconda3\\lib\\site-packages (from nltk>=3.1->textblob>=0.9.0->textblob-de) (1.1.0)\n",
      "Requirement already satisfied: click in c:\\users\\sneha\\anaconda3\\lib\\site-packages (from nltk>=3.1->textblob>=0.9.0->textblob-de) (8.0.4)\n",
      "Requirement already satisfied: colorama in c:\\users\\sneha\\anaconda3\\lib\\site-packages (from click->nltk>=3.1->textblob>=0.9.0->textblob-de) (0.4.4)\n"
     ]
    }
   ],
   "source": [
    "!pip install wordcloud\n",
    "!pip install -U textblob-de\n"
   ]
  },
  {
   "cell_type": "code",
   "execution_count": 2,
   "id": "e2d5819c",
   "metadata": {},
   "outputs": [
    {
     "name": "stderr",
     "output_type": "stream",
     "text": [
      "[nltk_data] Downloading package vader_lexicon to\n",
      "[nltk_data]     C:\\Users\\sneha\\AppData\\Roaming\\nltk_data...\n",
      "[nltk_data]   Package vader_lexicon is already up-to-date!\n"
     ]
    }
   ],
   "source": [
    "import numpy as np # linear algebra\n",
    "import pandas as pd # data processing, CSV file I/O (e.g. pd.read_csv)\n",
    "import matplotlib\n",
    "import seaborn as sns\n",
    "import matplotlib.pyplot as plt\n",
    "%matplotlib inline \n",
    "from wordcloud import WordCloud, STOPWORDS\n",
    "from sklearn.decomposition import LatentDirichletAllocation\n",
    "from collections import Counter\n",
    "import nltk\n",
    "nltk.download('vader_lexicon')\n",
    "from nltk.sentiment import SentimentIntensityAnalyzer\n",
    "from textblob import TextBlob\n",
    "import warnings\n",
    "warnings.simplefilter(\"ignore\")\n"
   ]
  },
  {
   "cell_type": "code",
   "execution_count": 3,
   "id": "5a5b682f",
   "metadata": {},
   "outputs": [
    {
     "ename": "SyntaxError",
     "evalue": "(unicode error) 'unicodeescape' codec can't decode bytes in position 2-3: truncated \\UXXXXXXXX escape (4175472036.py, line 1)",
     "output_type": "error",
     "traceback": [
      "\u001b[1;36m  Input \u001b[1;32mIn [3]\u001b[1;36m\u001b[0m\n\u001b[1;33m    tweets_df = pd.read_csv(\"C:\\Users\\sneha\\DataScienceProject\\TweetsElonMusk.csv\")\u001b[0m\n\u001b[1;37m                                                                                  ^\u001b[0m\n\u001b[1;31mSyntaxError\u001b[0m\u001b[1;31m:\u001b[0m (unicode error) 'unicodeescape' codec can't decode bytes in position 2-3: truncated \\UXXXXXXXX escape\n"
     ]
    }
   ],
   "source": [
    "tweets_df = pd.read_csv(\"C:\\Users\\sneha\\DataScienceProject\\TweetsElonMusk.csv\")"
   ]
  },
  {
   "cell_type": "markdown",
   "id": "ab78ac3c",
   "metadata": {},
   "source": [
    "# About the Data Set"
   ]
  },
  {
   "cell_type": "code",
   "execution_count": null,
   "id": "d628ef4e",
   "metadata": {},
   "outputs": [],
   "source": [
    "tweets_df.head(2)"
   ]
  },
  {
   "cell_type": "code",
   "execution_count": null,
   "id": "4bbbcbe7",
   "metadata": {},
   "outputs": [],
   "source": [
    "tweets_df.columns"
   ]
  },
  {
   "cell_type": "code",
   "execution_count": null,
   "id": "c7d5eadd",
   "metadata": {},
   "outputs": [],
   "source": [
    "tweets_df.describe()\n"
   ]
  },
  {
   "cell_type": "code",
   "execution_count": null,
   "id": "49c021d9",
   "metadata": {},
   "outputs": [],
   "source": [
    "tweets_df.info()"
   ]
  },
  {
   "cell_type": "markdown",
   "id": "d97c450e",
   "metadata": {},
   "source": [
    "# 2. Exploratory Data Analysis on the dataset"
   ]
  },
  {
   "cell_type": "markdown",
   "id": "854746da",
   "metadata": {},
   "source": [
    "*a) How many tweets are in this dataset?*"
   ]
  },
  {
   "cell_type": "code",
   "execution_count": null,
   "id": "f4702aa9",
   "metadata": {},
   "outputs": [],
   "source": [
    "tweets_df.head(2)"
   ]
  },
  {
   "cell_type": "code",
   "execution_count": null,
   "id": "92d49fc7",
   "metadata": {},
   "outputs": [],
   "source": [
    "tweets_df.shape"
   ]
  },
  {
   "cell_type": "code",
   "execution_count": null,
   "id": "acf79b58",
   "metadata": {},
   "outputs": [],
   "source": [
    "tweets_df.index"
   ]
  },
  {
   "cell_type": "markdown",
   "id": "072111be",
   "metadata": {},
   "source": [
    "* Drop columns that have all entries are null"
   ]
  },
  {
   "cell_type": "code",
   "execution_count": null,
   "id": "0d223cc9",
   "metadata": {},
   "outputs": [],
   "source": [
    "#Check for null values\n",
    "tweets_df.isnull().any()"
   ]
  },
  {
   "cell_type": "code",
   "execution_count": null,
   "id": "f5ab11d7",
   "metadata": {},
   "outputs": [],
   "source": [
    "tweets_df.count()\n"
   ]
  },
  {
   "cell_type": "code",
   "execution_count": null,
   "id": "1cf007b2",
   "metadata": {},
   "outputs": [],
   "source": [
    "tweets_df.columns"
   ]
  },
  {
   "cell_type": "code",
   "execution_count": null,
   "id": "4bc84c48",
   "metadata": {},
   "outputs": [],
   "source": [
    "tweets = tweets_df.drop(['place','quote_url', 'thumbnail', 'near', 'geo', 'source', 'user_rt_id', 'user_rt',\n",
    "       'retweet_id','retweet_date', 'translate', 'trans_src',\n",
    "       'trans_dest'],axis =1)"
   ]
  },
  {
   "cell_type": "code",
   "execution_count": null,
   "id": "abf02640",
   "metadata": {},
   "outputs": [],
   "source": [
    "tweets.shape"
   ]
  },
  {
   "cell_type": "code",
   "execution_count": null,
   "id": "eb49c273",
   "metadata": {},
   "outputs": [],
   "source": [
    "tweets.columns"
   ]
  },
  {
   "cell_type": "markdown",
   "id": "2cc0df32",
   "metadata": {},
   "source": [
    "# * The date of his first and last post in this data set?"
   ]
  },
  {
   "cell_type": "code",
   "execution_count": null,
   "id": "138525ab",
   "metadata": {},
   "outputs": [],
   "source": [
    "date_sort = tweets.sort_values(by = \"created_at\", ascending = True)\n",
    "date_sort['created_at']"
   ]
  },
  {
   "cell_type": "code",
   "execution_count": null,
   "id": "a134a083",
   "metadata": {},
   "outputs": [],
   "source": [
    "print(\"First tweet was made on \",date_sort['created_at'][12514 ])"
   ]
  },
  {
   "cell_type": "code",
   "execution_count": null,
   "id": "9b792a5b",
   "metadata": {},
   "outputs": [],
   "source": [
    "first_tweet = date_sort['created_at'][12514]\n",
    "Tweet = date_sort.loc[date_sort['created_at'] == first_tweet, 'tweet'].iloc[0]\n",
    "print(\"Elon Musk's first tweet was in this data set- ' \",Tweet, \"Posted on - \", first_tweet )"
   ]
  },
  {
   "cell_type": "code",
   "execution_count": null,
   "id": "4a57e72b",
   "metadata": {},
   "outputs": [],
   "source": [
    "date_sort = tweets.sort_values(by = \"created_at\", ascending = False)\n",
    "date_sort['created_at']"
   ]
  },
  {
   "cell_type": "code",
   "execution_count": null,
   "id": "1bc478a6",
   "metadata": {},
   "outputs": [],
   "source": [
    "print(\"Last tweet was made in this data set on \",date_sort['created_at'][12515 ])"
   ]
  },
  {
   "cell_type": "code",
   "execution_count": null,
   "id": "213fab99",
   "metadata": {},
   "outputs": [],
   "source": [
    "last_tweet = date_sort['created_at'][12515]\n",
    "Tweet = date_sort.loc[date_sort['created_at'] == last_tweet, 'tweet'].iloc[0]\n",
    "print(\"Elon Musk's last tweet in this data set was - ' \",Tweet, \"Posted on - \", last_tweet )"
   ]
  },
  {
   "cell_type": "markdown",
   "id": "0dcec236",
   "metadata": {},
   "source": [
    "# * His most liked tweet, what was it about?"
   ]
  },
  {
   "cell_type": "code",
   "execution_count": null,
   "id": "7af623ff",
   "metadata": {},
   "outputs": [],
   "source": [
    "tweets.head(2)"
   ]
  },
  {
   "cell_type": "code",
   "execution_count": null,
   "id": "6385b831",
   "metadata": {},
   "outputs": [],
   "source": [
    "tweets[\"likes_count\"].sort_values(ascending=False)"
   ]
  },
  {
   "cell_type": "code",
   "execution_count": null,
   "id": "403ce1fb",
   "metadata": {},
   "outputs": [],
   "source": [
    "tweets.iloc[3694]"
   ]
  },
  {
   "cell_type": "code",
   "execution_count": null,
   "id": "990fc64f",
   "metadata": {},
   "outputs": [],
   "source": [
    "tweets.iloc[3694][\"tweet\"]"
   ]
  },
  {
   "cell_type": "markdown",
   "id": "d5eebc50",
   "metadata": {},
   "source": [
    "* His least liked tweet, what was it about?"
   ]
  },
  {
   "cell_type": "code",
   "execution_count": null,
   "id": "299bc36e",
   "metadata": {},
   "outputs": [],
   "source": [
    "tweets[\"likes_count\"].sort_values()"
   ]
  },
  {
   "cell_type": "code",
   "execution_count": null,
   "id": "99617871",
   "metadata": {},
   "outputs": [],
   "source": [
    "tweets[\"likes_count\"].sort_values().head()"
   ]
  },
  {
   "cell_type": "code",
   "execution_count": null,
   "id": "74d77fd3",
   "metadata": {},
   "outputs": [],
   "source": [
    "tweets.iloc[12413][\"tweet\"]"
   ]
  },
  {
   "cell_type": "markdown",
   "id": "df822efb",
   "metadata": {},
   "source": [
    "# * What are the least and most number of likes in a form of plots?"
   ]
  },
  {
   "cell_type": "code",
   "execution_count": null,
   "id": "f4feb722",
   "metadata": {},
   "outputs": [],
   "source": [
    "tweets['likes_count'].head(25).plot(kind = 'bar', figsize = (15,8), title = \"Number of likes for first 25 posts\")\n",
    "plt.xlabel(\"X-axis\")\n",
    "plt.ylabel(\"Y-axis\")\n",
    "plt.show()"
   ]
  },
  {
   "cell_type": "code",
   "execution_count": null,
   "id": "3dff7034",
   "metadata": {},
   "outputs": [],
   "source": [
    "sorted_df = tweets.sort_values(by = \"likes_count\", ascending = True)\n",
    "sorted_df['likes_count'].head(25).plot(kind = 'bar', figsize = (15,8), title = \"Least number of likes\")\n",
    "plt.xlabel(\"X-axis\")\n",
    "plt.ylabel(\"Y-axis\")\n",
    "plt.show()"
   ]
  },
  {
   "cell_type": "code",
   "execution_count": null,
   "id": "69633890",
   "metadata": {},
   "outputs": [],
   "source": [
    "sorted_df = tweets.sort_values(by = \"likes_count\", ascending = False)\n",
    "sorted_df['likes_count'].head(25).plot(kind = 'bar', figsize = (15,8), title = \"Most number of likes\")\n",
    "plt.xlabel(\"X-axis\")\n",
    "plt.ylabel(\"Y-axis\")\n",
    "plt.show()"
   ]
  },
  {
   "cell_type": "markdown",
   "id": "373c948a",
   "metadata": {},
   "source": [
    "# Data Exploration"
   ]
  },
  {
   "cell_type": "markdown",
   "id": "76531173",
   "metadata": {},
   "source": [
    "* Missing Data"
   ]
  },
  {
   "cell_type": "code",
   "execution_count": null,
   "id": "85162fb9",
   "metadata": {},
   "outputs": [],
   "source": [
    "def missing_data(data):\n",
    "    total = data.isnull().sum()\n",
    "    percent = (data.isnull().sum()/data.isnull().count()*100)\n",
    "    tt = pd.concat([total, percent], axis=1, keys=['Total', 'Percent'])\n",
    "    types = []\n",
    "    for col in data.columns:\n",
    "        dtype = str(data[col].dtype)\n",
    "        types.append(dtype)\n",
    "    tt['Types'] = types\n",
    "    return(np.transpose(tt))"
   ]
  },
  {
   "cell_type": "code",
   "execution_count": null,
   "id": "16b9aa32",
   "metadata": {},
   "outputs": [],
   "source": [
    "missing_data(tweets)"
   ]
  },
  {
   "cell_type": "markdown",
   "id": "837cef65",
   "metadata": {},
   "source": [
    "* Unique Values"
   ]
  },
  {
   "cell_type": "code",
   "execution_count": null,
   "id": "304ee573",
   "metadata": {},
   "outputs": [],
   "source": [
    "def unique_values(data):\n",
    "    total = data.count()\n",
    "    tt = pd.DataFrame(total)\n",
    "    tt.columns = ['Total']\n",
    "    uniques = []\n",
    "    for col in data.columns:\n",
    "        unique = data[col].nunique()\n",
    "        uniques.append(unique)\n",
    "    tt['Uniques'] = uniques\n",
    "    return(np.transpose(tt))"
   ]
  },
  {
   "cell_type": "code",
   "execution_count": null,
   "id": "7b6c88b9",
   "metadata": {},
   "outputs": [],
   "source": [
    "unique_values(tweets)"
   ]
  },
  {
   "cell_type": "markdown",
   "id": "651546bc",
   "metadata": {},
   "source": [
    "*Most frequent values"
   ]
  },
  {
   "cell_type": "code",
   "execution_count": null,
   "id": "53ef3d22",
   "metadata": {},
   "outputs": [],
   "source": [
    "def most_frequent_values(data):\n",
    "    total = data.count()\n",
    "    tt = pd.DataFrame(total)\n",
    "    tt.columns = ['Total']\n",
    "    items = []\n",
    "    vals = []\n",
    "    for col in data.columns:\n",
    "        try:\n",
    "            itm = data[col].value_counts().index[0]\n",
    "            val = data[col].value_counts().values[0]\n",
    "            items.append(itm)\n",
    "            vals.append(val)\n",
    "        except Exception as ex:\n",
    "            print(ex)\n",
    "            items.append(0)\n",
    "            vals.append(0)\n",
    "            continue\n",
    "    tt['Most frequent item'] = items\n",
    "    tt['Frequence'] = vals\n",
    "    tt['Percent from total'] = np.round(vals / total * 100, 3)\n",
    "    return(np.transpose(tt))"
   ]
  },
  {
   "cell_type": "code",
   "execution_count": null,
   "id": "d463426e",
   "metadata": {},
   "outputs": [],
   "source": [
    "most_frequent_values(tweets)"
   ]
  },
  {
   "cell_type": "markdown",
   "id": "8d84dece",
   "metadata": {},
   "source": [
    "* Text wordcloauds"
   ]
  },
  {
   "cell_type": "code",
   "execution_count": null,
   "id": "b6b8e1cf",
   "metadata": {},
   "outputs": [],
   "source": [
    "stopwords = set(STOPWORDS)\n",
    "\n",
    "def show_wordcloud(data, mask=None, title=\"\"):\n",
    "    text = \" \".join(t for t in data.dropna())\n",
    "    stopwords = set(STOPWORDS)\n",
    "    stopwords.update([\"t\", \"co\", \"https\", \"amp\", \"U\", \"Comment\", \"text\", \"attr\", \"object\"])\n",
    "    wordcloud = WordCloud(stopwords=stopwords, scale=4, max_font_size=50, max_words=500,mask=mask, background_color=\"white\").generate(text)\n",
    "    fig = plt.figure(1, figsize=(16,16))\n",
    "    plt.axis('off')\n",
    "    fig.suptitle(title, fontsize=20)\n",
    "    fig.subplots_adjust(top=2.3)\n",
    "    plt.imshow(wordcloud, interpolation='bilinear')\n",
    "    plt.show()    "
   ]
  },
  {
   "cell_type": "code",
   "execution_count": null,
   "id": "5815b48b",
   "metadata": {},
   "outputs": [],
   "source": [
    "show_wordcloud(tweets['tweet'], title = 'Prevalent words in tweets')"
   ]
  },
  {
   "cell_type": "markdown",
   "id": "60625559",
   "metadata": {},
   "source": [
    "* Extract date and time features"
   ]
  },
  {
   "cell_type": "code",
   "execution_count": null,
   "id": "86b1e3e0",
   "metadata": {},
   "outputs": [],
   "source": [
    "tweets['datedt'] = pd.to_datetime(tweets['date'])"
   ]
  },
  {
   "cell_type": "code",
   "execution_count": null,
   "id": "91bc2a6d",
   "metadata": {},
   "outputs": [],
   "source": [
    "tweets['year'] = tweets['datedt'].dt.year\n",
    "tweets['month'] = tweets['datedt'].dt.month\n",
    "tweets['day'] = tweets['datedt'].dt.day\n",
    "tweets['dayofweek'] = tweets['datedt'].dt.dayofweek\n",
    "tweets['hour'] = tweets['datedt'].dt.hour\n",
    "tweets['minute'] = tweets['datedt'].dt.minute\n",
    "tweets['dayofyear'] = tweets['datedt'].dt.dayofyear\n",
    "tweets['date_only'] = tweets['datedt'].dt.date"
   ]
  },
  {
   "cell_type": "code",
   "execution_count": null,
   "id": "0475bd6a",
   "metadata": {},
   "outputs": [],
   "source": [
    "tweets_agg_df = tweets.groupby([\"date\"])[\"tweet\"].count().reset_index()\n",
    "tweets_agg_df.columns = [\"date\", \"count\"]"
   ]
  },
  {
   "cell_type": "code",
   "execution_count": null,
   "id": "2f38fb4e",
   "metadata": {},
   "outputs": [],
   "source": [
    "def plot_time_variation(df, x='date', y='count', hue=None, size=1, title=\"\", is_log=False):\n",
    "    f, ax = plt.subplots(1,1, figsize=(4*size,3*size))\n",
    "    g = sns.lineplot(x=x, y=y, hue=hue, data=df)\n",
    "    plt.xticks(rotation=90)\n",
    "    if hue:\n",
    "        plt.title(f'{y} grouped by {hue} | {title}')\n",
    "    else:\n",
    "        plt.title(f'{y} | {title}')\n",
    "    if(is_log):\n",
    "        ax.set(yscale=\"log\")\n",
    "    ax.grid(color='black', linestyle='dotted', linewidth=0.75)\n",
    "    plt.show() "
   ]
  },
  {
   "cell_type": "code",
   "execution_count": null,
   "id": "54a30e22",
   "metadata": {},
   "outputs": [],
   "source": [
    "plot_time_variation(tweets_agg_df, title=\"Number of tweets / day of year\",size=3)"
   ]
  },
  {
   "cell_type": "code",
   "execution_count": null,
   "id": "4c056c99",
   "metadata": {},
   "outputs": [],
   "source": [
    "\n",
    "def plot_count(feature, title, df, size=1, ordered=True):\n",
    "    f, ax = plt.subplots(1,1, figsize=(4*size,4))\n",
    "    total = float(len(df))\n",
    "    if ordered:\n",
    "        g = sns.countplot(df[feature], order = df[feature].value_counts().index[:20], palette='Set3')\n",
    "    else:\n",
    "        g = sns.countplot(df[feature], palette='Set3')\n",
    "    g.set_title(\"Number and percentage of {}\".format(title))\n",
    "    if(size > 2):\n",
    "        plt.xticks(rotation=90, size=8)\n",
    "    for p in ax.patches:\n",
    "        height = p.get_height()\n",
    "        ax.text(p.get_x()+p.get_width()/2.,\n",
    "                height + 3,\n",
    "                '{:1.2f}%'.format(100*height/total),\n",
    "                ha=\"center\") \n",
    "    plt.show()   "
   ]
  },
  {
   "cell_type": "code",
   "execution_count": null,
   "id": "f361f17e",
   "metadata": {},
   "outputs": [],
   "source": [
    "plot_count(\"dayofweek\", \"tweets / day of week\", tweets, size=3, ordered=False)"
   ]
  },
  {
   "cell_type": "code",
   "execution_count": null,
   "id": "cebbee45",
   "metadata": {},
   "outputs": [],
   "source": []
  },
  {
   "cell_type": "code",
   "execution_count": null,
   "id": "cca4420d",
   "metadata": {},
   "outputs": [],
   "source": [
    "plot_count(\"dayofyear\", \"tweets / day of year\", tweets, size=3, ordered=False)"
   ]
  },
  {
   "cell_type": "code",
   "execution_count": null,
   "id": "980bc9a3",
   "metadata": {},
   "outputs": [],
   "source": [
    "plot_count(\"date_only\", \"tweets / date\", tweets,size=4, ordered=False)"
   ]
  },
  {
   "cell_type": "code",
   "execution_count": null,
   "id": "ba5b8a96",
   "metadata": {},
   "outputs": [],
   "source": [
    "plot_count(\"hour\", \"tweets / hour\", tweets,size=4, ordered=False)"
   ]
  },
  {
   "cell_type": "code",
   "execution_count": null,
   "id": "6532f07c",
   "metadata": {},
   "outputs": [],
   "source": [
    "plot_count(\"minute\", \"tweets / minute\", tweets,size=5, ordered=False)"
   ]
  },
  {
   "cell_type": "code",
   "execution_count": null,
   "id": "96f84111",
   "metadata": {},
   "outputs": [],
   "source": [
    "# borrowed from https://www.kaggle.com/pashupatigupta/sentiments-transformer-vader-embedding-bert\n",
    "sia = SentimentIntensityAnalyzer()\n",
    "def find_sentiment(post):\n",
    "    try:\n",
    "        if sia.polarity_scores(post)[\"compound\"] > 0:\n",
    "            return \"Positive\"\n",
    "        elif sia.polarity_scores(post)[\"compound\"] < 0:\n",
    "            return \"Negative\"\n",
    "        else:\n",
    "            return \"Neutral\"  \n",
    "    except:\n",
    "        return \"Neutral\""
   ]
  },
  {
   "cell_type": "code",
   "execution_count": null,
   "id": "2dbd263c",
   "metadata": {},
   "outputs": [],
   "source": [
    "def plot_sentiment(df, feature, title):\n",
    "    counts = df[feature].value_counts()\n",
    "    percent = counts/sum(counts)\n",
    "\n",
    "    fig, (ax1, ax2) = plt.subplots(ncols=2, figsize=(12, 5))\n",
    "\n",
    "    counts.plot(kind='bar', ax=ax1, color='green')\n",
    "    percent.plot(kind='bar', ax=ax2, color='blue')\n",
    "    ax1.set_ylabel(f'Counts : {title} sentiments', size=12)\n",
    "    ax2.set_ylabel(f'Percentage : {title} sentiments', size=12)\n",
    "    plt.suptitle(f\"Sentiment analysis: {title}\")\n",
    "    plt.tight_layout()\n",
    "    plt.show()"
   ]
  },
  {
   "cell_type": "code",
   "execution_count": null,
   "id": "e227d6b9",
   "metadata": {},
   "outputs": [],
   "source": [
    "tweets['text_sentiment'] = tweets['tweet'].apply(lambda x: find_sentiment(x))\n",
    "plot_sentiment(tweets, 'text_sentiment', 'Tweet')"
   ]
  },
  {
   "cell_type": "code",
   "execution_count": null,
   "id": "28f17132",
   "metadata": {},
   "outputs": [],
   "source": [
    "show_wordcloud(tweets.loc[tweets['text_sentiment']==\"Positive\", 'tweet'], title = 'Prevalent words in Text with Positive sentiment', mask=None)"
   ]
  },
  {
   "cell_type": "code",
   "execution_count": null,
   "id": "b781307b",
   "metadata": {},
   "outputs": [],
   "source": [
    "show_wordcloud(tweets.loc[tweets['text_sentiment']==\"Negative\", 'tweet'], title = 'Prevalent words in Text with Negative sentiment', mask=None)"
   ]
  },
  {
   "cell_type": "code",
   "execution_count": null,
   "id": "79298168",
   "metadata": {},
   "outputs": [],
   "source": [
    "show_wordcloud(tweets.loc[tweets['text_sentiment']==\"Neutral\", 'tweet'], title = 'Prevalent words in Text with Neutral sentiment', mask=None)"
   ]
  },
  {
   "cell_type": "code",
   "execution_count": null,
   "id": "00603b4c",
   "metadata": {},
   "outputs": [],
   "source": [
    "tweets.columns"
   ]
  },
  {
   "cell_type": "code",
   "execution_count": null,
   "id": "de64d723",
   "metadata": {},
   "outputs": [],
   "source": [
    "tweets.shape"
   ]
  },
  {
   "cell_type": "code",
   "execution_count": null,
   "id": "9f5b92f0",
   "metadata": {},
   "outputs": [],
   "source": [
    "tweets_df.shape"
   ]
  },
  {
   "cell_type": "code",
   "execution_count": null,
   "id": "b4566369",
   "metadata": {},
   "outputs": [],
   "source": [
    "unique_values(tweets)"
   ]
  },
  {
   "cell_type": "code",
   "execution_count": null,
   "id": "51ef5ffb",
   "metadata": {},
   "outputs": [],
   "source": [
    "tweets.head(5)"
   ]
  },
  {
   "cell_type": "markdown",
   "id": "96778afc",
   "metadata": {},
   "source": [
    " * Drop features that have only one unique value"
   ]
  },
  {
   "cell_type": "code",
   "execution_count": null,
   "id": "42cc16ea",
   "metadata": {},
   "outputs": [],
   "source": [
    "tweets.info()"
   ]
  },
  {
   "cell_type": "code",
   "execution_count": null,
   "id": "baecee61",
   "metadata": {},
   "outputs": [],
   "source": [
    "tweets.dtypes"
   ]
  },
  {
   "cell_type": "code",
   "execution_count": null,
   "id": "46f8889f",
   "metadata": {},
   "outputs": [],
   "source": [
    "tweets.isnull()"
   ]
  },
  {
   "cell_type": "code",
   "execution_count": null,
   "id": "f66784b4",
   "metadata": {},
   "outputs": [],
   "source": [
    "tweets.isnull().sum()"
   ]
  },
  {
   "cell_type": "code",
   "execution_count": null,
   "id": "7e572e63",
   "metadata": {},
   "outputs": [],
   "source": []
  }
 ],
 "metadata": {
  "kernelspec": {
   "display_name": "Python 3 (ipykernel)",
   "language": "python",
   "name": "python3"
  },
  "language_info": {
   "codemirror_mode": {
    "name": "ipython",
    "version": 3
   },
   "file_extension": ".py",
   "mimetype": "text/x-python",
   "name": "python",
   "nbconvert_exporter": "python",
   "pygments_lexer": "ipython3",
   "version": "3.9.12"
  }
 },
 "nbformat": 4,
 "nbformat_minor": 5
}
